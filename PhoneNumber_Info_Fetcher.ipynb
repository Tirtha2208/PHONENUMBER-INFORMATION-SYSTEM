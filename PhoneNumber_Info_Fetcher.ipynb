{
  "nbformat": 4,
  "nbformat_minor": 0,
  "metadata": {
    "colab": {
      "name": "PhoneNumber-Info-Fetcher.ipynb",
      "provenance": [],
      "authorship_tag": "ABX9TyOMYM0wViEJ5AB3u4uHxNEs"
    },
    "kernelspec": {
      "name": "python3",
      "display_name": "Python 3"
    }
  },
  "cells": [
    {
      "cell_type": "code",
      "metadata": {
        "id": "uiEWAOg8rKgL"
      },
      "source": [
        "pip install phonenumbers"
      ],
      "execution_count": null,
      "outputs": []
    },
    {
      "cell_type": "markdown",
      "metadata": {
        "id": "Kn7rNC0uvwhv"
      },
      "source": [
        "##***Demo Output Information***\r\n",
        "\r\n",
        "---\r\n",
        "\r\n",
        "\r\n",
        "**For Demo output I am giving the online medicine order phone number of the Pharmeasy.**"
      ]
    },
    {
      "cell_type": "code",
      "metadata": {
        "colab": {
          "base_uri": "https://localhost:8080/"
        },
        "id": "UU5PNtQlrU4A",
        "outputId": "b25373e3-74cd-4ea6-a67b-1af96eca3704"
      },
      "source": [
        "import phonenumbers   \r\n",
        "from phonenumbers import geocoder as gc \r\n",
        "from phonenumbers import carrier as car\r\n",
        "from phonenumbers import timezone as tz \r\n",
        "\r\n",
        "s=True\r\n",
        "while(s):\r\n",
        "    phno=input(\"Enter your phone number along with your country code\\n\")\r\n",
        "    phone_number = phonenumbers.parse(phno)\r\n",
        "    valid = phonenumbers.is_valid_number(phone_number)\r\n",
        "    if(valid):\r\n",
        "        print(\"The number is : \"+phno)\r\n",
        "        print(\"Operator : \"+car.name_for_number(phone_number, 'en'))\r\n",
        "        print(\"The Current Location: \"+gc.description_for_number(phone_number,'en'))\r\n",
        "        timezone=tz.time_zones_for_number(phone_number)\r\n",
        "        for i in timezone:\r\n",
        "            print(\"The current timezone : \"+i,end=\" \")\r\n",
        "        print(\"\\n\")\r\n",
        "        print(\"Do you search for another number--- Press 1 for yes otherwise press2\")\r\n",
        "        n=int(input())\r\n",
        "        if(n==1):\r\n",
        "            s=True\r\n",
        "        else:\r\n",
        "            s=False\r\n",
        "        print(\"\")\r\n",
        "    else:\r\n",
        "        print(\"please enter a valid phone number\\n\")\r\n",
        "        s=True\r\n"
      ],
      "execution_count": 2,
      "outputs": [
        {
          "output_type": "stream",
          "text": [
            "Enter your phone number along with your country code\n",
            "+919992999929\n",
            "The number is : +919992999929\n",
            "Operator : Idea\n",
            "The Current Location: India\n",
            "The current timezone : Asia/Calcutta \n",
            "\n",
            "Do you search for another number--- Press 1 for yes otherwise press2\n",
            "2\n",
            "\n"
          ],
          "name": "stdout"
        }
      ]
    }
  ]
}